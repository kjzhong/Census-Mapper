{
 "cells": [
  {
   "cell_type": "markdown",
   "metadata": {},
   "source": [
    "# Python Script for selecting, aggregating and arranging Census Tables\n"
   ]
  },
  {
   "cell_type": "markdown",
   "metadata": {},
   "source": [
    "## Pre-req"
   ]
  },
  {
   "cell_type": "code",
   "execution_count": null,
   "metadata": {},
   "outputs": [],
   "source": [
    "import pandas as pd\n",
    "import functools"
   ]
  },
  {
   "cell_type": "markdown",
   "metadata": {},
   "source": [
    "## Step 1: Importing the Data\n",
    "\n",
    "* Look at the meta-data table to see which columns are of interest\n",
    "* Create a list **names**,which will have our interested tables expressed as a CSV name provided by the census\n",
    "* Create a dictionary **d** which will have a key corresponding to a name, and a value corresponding to the read csv file itself\n"
   ]
  },
  {
   "cell_type": "code",
   "execution_count": null,
   "metadata": {},
   "outputs": [],
   "source": [
    "dataTabs = [\"01\",\"02\",\"04A\",\"04B\",\"10A\",\n",
    "            \"10B\",\"10C\",\"13A\",\"13B\",\"15\",\n",
    "            \"17A\",\"17B\",\"17C\",\"18\",\"25\",\n",
    "            \"28\",\"30\",\"31\",\"57A\",\"57B\",\"59\"]\n",
    "names = []\n",
    "d = {}\n",
    "\n",
    "for tab in dataTabs:\n",
    "    name = f\"2016 Census GCP Postal Areas for AUST/2016Census_G{tab}_AUS_POA.csv\"\n",
    "    names.append(name)\n",
    "    d[f\"dataG{tab}\"] = pd.read_csv(name)"
   ]
  },
  {
   "cell_type": "markdown",
   "metadata": {},
   "source": [
    "## Step 2(a): Cleaning and Checking data\n",
    "\n",
    "* Lambda function is used, which allows us to merge all the tables specified in a list\n",
    "* Check for **missing** values before any analysis\n",
    "* Check for any **absurd** values ( such as total populations which are zero )\n",
    "* Result is a 2658 x 2687 array "
   ]
  },
  {
   "cell_type": "code",
   "execution_count": null,
   "metadata": {
    "scrolled": true
   },
   "outputs": [],
   "source": [
    "# https://stackoverflow.com/questions/44327999/python-pandas-merge-multiple-dataframes\n",
    "\n",
    "df_merged = functools.reduce(lambda  left,right: pd.merge(left,right,on=['POA_CODE_2016'],\n",
    "                                            how='inner'), list(d.values()))\n",
    "\n",
    "df_merged = df_merged[df_merged[\"Tot_P_P\"] != 0]"
   ]
  },
  {
   "cell_type": "markdown",
   "metadata": {},
   "source": [
    "## Step 2(b): Removing Excess Data Columns ( Attribute Specific) \n",
    " \n",
    " \n",
    "### Persona 1: Young people, aged 15-24\n",
    "\n",
    "* G01: these include the 15-24 in education + non-education  \n",
    "Age_15_19_yr_P  \n",
    "Age_20_24_yr_P  \n",
    "\n",
    "\n",
    "### Persona 2: Indigenous Australians ( identified as travel disadvantaged)\n",
    "\n",
    "* G01  \n",
    "Indigenous_P_Tot_P \n",
    "\n",
    "\n",
    "### Persona 4: Disabled People ( need assistance with core activites )\n",
    "\n",
    "* G18:  \n",
    "P_15_19_Need_for_assistance  \n",
    "P_20_24_Need_for_assistance  \n",
    "P_25_34_Need_for_assistance  \n",
    "P_35_44_Need_for_assistance  \n",
    "P_45_54_Need_for_assistance  \n",
    "P_55_64_Need_for_assistance  \n",
    "P_65_74_Need_for_assistance  \n",
    "P_75_84_Need_for_assistance  \n",
    "P_85_over_Need_for_assistance  \n",
    "  \n",
    "\n",
    "### Persona 5: Seniors (55+)\n",
    "* G01:\n",
    "Age_55_64_yr_P  \n",
    "Age_65_74_yr_P  \n",
    "Age_75_84_yr_P  \n",
    "Age_85ov_P\n",
    "\n",
    "\n",
    "### Other Qualities of Interest\n",
    "\n",
    "*People who go to work using **only** a taxi*  \n",
    "G59: \"One_method_Taxi_P\"  \n",
    "\n",
    "*Households with more than 3 people & households with 1 or less motor vehicles*  \n",
    "G30:  \n",
    "Num_MVs_per_dweling_0_MVs  \n",
    "Num_MVs_per_dweling_1_MVs  \n",
    "  \n",
    "G31:  \n",
    "Num_Psns_UR_3_Total  \n",
    "Num_Psns_UR_4_Total  \n",
    "Num_Psns_UR_5_Total  \n",
    "Num_Psns_UR_6mo_Total  \n",
    "\n",
    "*Households which are a single-parent family with a dependant aged under 15*  \n",
    "G25:     \n",
    "OPF_ChU15_a_Total_F (One_parent_family_with_children_under_15_and_Total_Families)  "
   ]
  },
  {
   "cell_type": "code",
   "execution_count": null,
   "metadata": {},
   "outputs": [],
   "source": [
    "# Keep all this as a dictionary if we ever need to group by specific personas\n",
    "\n",
    "persona = {}\n",
    "\n",
    "#General Stuff\n",
    "persona[0] = [\"POA_CODE_2016\"]\n",
    "\n",
    "#Population Density\n",
    "persona[1] = [\"Tot_P_P\"]\n",
    "\n",
    "#People aged 15-24\n",
    "persona[2] = [\"Age_15_19_yr_P\", \"Age_20_24_yr_P\"]\n",
    "\n",
    "#People who immigrated from 2011 to 2016\n",
    "persona[3] = [\"Tot_2011\", \"Tot_2012\", \"Tot_2013\", \"Tot_2014\", \"Tot_2015\", \"Tot_2016\"]\n",
    "\n",
    "#People over the age of 55 \n",
    "persona[4] = [\"Age_55_64_yr_P\", \"Age_65_74_yr_P\", \"Age_75_84_yr_P\", \"Age_85ov_P\"]\n",
    "\n",
    "#People over the age of 14 who need assitance with core activites/disabled\n",
    "persona[5] = [\"P_15_19_Need_for_assistance\", \"P_20_24_Need_for_assistance\", \"P_25_34_Need_for_assistance\", \"P_35_44_Need_for_assistance\", \"P_45_54_Need_for_assistance\", \"P_55_64_Need_for_assistance\", \"P_65_74_Need_for_assistance\", \"P_75_84_Need_for_assistance\", \"P_85_over_Need_for_assistance\"]\n",
    "\n",
    "#Number of single parent families with children under 15\n",
    "persona[6] = [\"OPF_ChU15_a_Total_F\"]\n",
    "\n",
    "#Households with less than one motor vehicle\n",
    "persona[7] = [\"Num_MVs_per_dweling_0_MVs\", \"Num_MVs_per_dweling_1_MVs\"]\n",
    "\n",
    "#Households with more than 3 people\n",
    "persona[8] = [\"Num_Psns_UR_3_Total\", \"Num_Psns_UR_4_Total\", \"Num_Psns_UR_5_Total\", \"Num_Psns_UR_6mo_Total\"]\n",
    "\n",
    "#Indigenous Australians\n",
    "persona[9] = [\"Indigenous_P_Tot_P\"]\n",
    "\n",
    "#Sole method to work is taxi\n",
    "persona[10] = [\"One_method_Taxi_P\"]\n",
    "\n",
    "#Median Income (under $1000/week) \n",
    "persona[11] = [ \"Neg_Nil_inc_Tot\",  \"FI_1_149_Tot\",  \"FI_150_299_Tot\",  \"FI_300_399_Tot\",  \"FI_400_499_Tot\",  \"FI_500_649_Tot\",  \"FI_650_799_Tot\",  \"FI_800_999_Tot\"]"
   ]
  },
  {
   "cell_type": "code",
   "execution_count": null,
   "metadata": {},
   "outputs": [],
   "source": [
    "# But for this assignment we just need one big list - this is that list\n",
    "\n",
    "persona_l = []\n",
    "for i in persona.keys():\n",
    "    persona_l.extend(persona[i])"
   ]
  },
  {
   "cell_type": "markdown",
   "metadata": {},
   "source": [
    "## Step 3: Data Manipulation  \n",
    "\n",
    "* Aggregate the columns of interest to form market composition of the persona\n",
    "* Drop the columns after aggregation has bene completed\n",
    "* Rename relevant columns for ease"
   ]
  },
  {
   "cell_type": "code",
   "execution_count": null,
   "metadata": {},
   "outputs": [],
   "source": [
    "# Dictionary to merge columns\n",
    "d_merge = {}\n",
    "\n",
    "d_merge[\"Number of 15-24 Year Olds\"] = [\"Age_15_19_yr_P\", \"Age_20_24_yr_P\"]\n",
    "d_merge[\"Number Of Immigrants arrived since 2011\"] = [\"Tot_2011\", \"Tot_2016\"]\n",
    "d_merge[\"Number of people aged 55+\"] = [\"Age_55_64_yr_P\", \"Age_85ov_P\"]\n",
    "d_merge[\"Number of people aged 14 and old with a disability\"] = [\"P_15_19_Need_for_assistance\", \"P_85_over_Need_for_assistance\"]\n",
    "d_merge[\"Number of households with 1 or less cars\"] = [\"Num_MVs_per_dweling_0_MVs\", \"Num_MVs_per_dweling_1_MVs\"]\n",
    "d_merge[\"Number of Households with more than 3 people\"] = [\"Num_Psns_UR_3_Total\", \"Num_Psns_UR_6mo_Total\"]\n",
    "d_merge[\"Number of people under Median income\"] = [\"Neg_Nil_inc_Tot\", \"FI_800_999_Tot\"]"
   ]
  },
  {
   "cell_type": "code",
   "execution_count": null,
   "metadata": {},
   "outputs": [],
   "source": [
    "def sum_drop(df, name, start, end):\n",
    "    '''Sums the columns in df from start to end into a new column called name'''\n",
    "    df[name] = df.loc[:, start:end].sum(axis = 1)\n",
    "    df = df.drop(columns = df.loc[:, start:end])\n",
    "    return df"
   ]
  },
  {
   "cell_type": "code",
   "execution_count": null,
   "metadata": {},
   "outputs": [],
   "source": [
    "persona_df = df_merged.loc[:,persona_l]"
   ]
  },
  {
   "cell_type": "code",
   "execution_count": null,
   "metadata": {},
   "outputs": [],
   "source": [
    "for key, value in d_merge.items():\n",
    "    persona_df = sum_drop(persona_df, key, value[0], value[1])"
   ]
  },
  {
   "cell_type": "code",
   "execution_count": null,
   "metadata": {},
   "outputs": [],
   "source": [
    "persona_df = persona_df.rename(columns={'OPF_ChU15_a_Total_F': 'Single Parent Families with Children under 15'\n",
    "                               , 'Tot_P_P': 'Total Population'\n",
    "                               , 'Indigenous_P_Tot_P':'Total Indigenous Population'\n",
    "                               , 'One_method_Taxi_P':\"Number of people who travel to work ONLY by Taxi\"\n",
    "                               })"
   ]
  },
  {
   "attachments": {
    "image.png": {
     "image/png": "[encoded data removed]"
    }
   },
   "cell_type": "markdown",
   "metadata": {},
   "source": [
    "### Additional Data Manipulation\n",
    "\n",
    "* Remove the \"POA\" which is infront of postcodes\n",
    "* Convert our data in proportions of total population rather than raw data\n",
    "* Convert each observation into a score which lies between 0 to 1, with 0 occuring least and 1 occurring most often using the below normalization formula\n",
    "\n",
    "https://stats.stackexchange.com/questions/70801/how-to-normalize-data-to-0-1-range\n",
    "\n",
    "![image.png](attachment:image.png)\n"
   ]
  },
  {
   "cell_type": "code",
   "execution_count": null,
   "metadata": {},
   "outputs": [],
   "source": [
    "#Removing POA for ease of use\n",
    "persona_df['POA_CODE_2016'] = persona_df['POA_CODE_2016'].str.strip('POA')\n",
    "\n",
    "#Calculating proportion of the population\n",
    "persona_df.iloc[:,2:]=persona_df.iloc[:,1:].div(persona_df[\"Total Population\"],axis=0)\n",
    "\n",
    "#Assign a score from 0 to 1 based on each attribute\n",
    "for i in persona_df.columns[1:]:\n",
    "    persona_df[i]=(persona_df[i]-persona_df[i].min())/(persona_df[i].max()-persona_df[i].min())"
   ]
  },
  {
   "cell_type": "markdown",
   "metadata": {},
   "source": [
    "### Combining the Attribute scores to create our Personas\n",
    "\n",
    "Combining scores of each attribute to create our \"Personas\". This will allow us to compare postcodes in order to identify where a large propotion of **each** of our persona's reside"
   ]
  },
  {
   "cell_type": "code",
   "execution_count": null,
   "metadata": {},
   "outputs": [],
   "source": [
    "# Creating persona 1 score 15-24 year old\n",
    "## Under the Median Income\n",
    "## Potentially in a house hold with less than 1 car but have a couple siblings\n",
    "\n",
    "persona_df[\"Youth Score\"]=persona_df.loc[:,[\"Number of 15-24 Year Olds\",\n",
    "                                                    \"Number of households with 1 or less cars\",\n",
    "                                                    \"Number of Households with more than 3 people\",\n",
    "                                                    \"Number of people under Median income\"]].sum(axis=1)\n",
    "\n",
    "#Creating persona 2 score Senior Citizen\n",
    "# Aged 55 +\n",
    "# Still working, but may favour going to work in a taxi (traditional way of thinking)\n",
    "\n",
    "persona_df[\"Senior's Score\"]=persona_df.loc[:,[\"Number of people aged 55+\",\n",
    "                                                       \"Number of people who travel to work ONLY by Taxi\"]].sum(axis=1)\n",
    "\n",
    "#Creating Persona 3 Indigenous Australians\n",
    "# Low population density\n",
    "# Under median income\n",
    "# No Car Ownership or limited car ownership\n",
    "\n",
    "persona_df[\"Indigenous Score\"]=persona_df.loc[:,[\"Total Indigenous Population\",\n",
    "                                                         \"Number of households with 1 or less cars\",\n",
    "                                                         \"Number of people under Median income\",\n",
    "                                                         \"Total Population\"]].sum(axis=1)\n",
    "\n",
    "#Creating Persona 4: Disabled Person\n",
    "# 14+ in age and disabled\n",
    "# Under median income\n",
    "\n",
    "persona_df[\"Disabled Score\"]=persona_df.loc[:,[\"Number of people aged 14 and old with a disability\",\n",
    "                                                       \"Number of people under Median income\"]].sum(axis=1)\n"
   ]
  },
  {
   "cell_type": "markdown",
   "metadata": {},
   "source": [
    "### Combining the Persona Scores to form the equal weighted one\n",
    "\n",
    "Combining the score for **each** persona into one (equally weighted) averaged score. This score will tell us which postcodes have a high proportion of **four** customer segments.\n",
    "\n",
    "A **higher** score signifes a **higher propotion**, where a **lower** score signifes a **smaller** proportion"
   ]
  },
  {
   "cell_type": "code",
   "execution_count": null,
   "metadata": {},
   "outputs": [],
   "source": [
    "persona_df['Equal Weighted Score'] = persona_df.loc[:,\"Youth Score\":\"Disabled Score\"].mean(axis = 1)\n",
    "#persona_df"
   ]
  },
  {
   "cell_type": "markdown",
   "metadata": {},
   "source": [
    "### Preparing the data for JS leaflet\n",
    "\n",
    "* Reordering the columns for easier manipulation in leaflet\n",
    "* Changing postcodes to a \"string object\" so that leading zeroes will not be removed when we export the CSV"
   ]
  },
  {
   "cell_type": "code",
   "execution_count": null,
   "metadata": {},
   "outputs": [],
   "source": [
    "cols = persona_df.columns.tolist()"
   ]
  },
  {
   "cell_type": "code",
   "execution_count": null,
   "metadata": {},
   "outputs": [],
   "source": [
    "#Reordering the columns \n",
    "cols = persona_df.columns.tolist()\n",
    "cols = [cols[0]] + [cols[-1]] + cols[-2:0:-1] \n",
    "persona_df=persona_df[cols]\n",
    "\n",
    "#Changing Postcodes to \"string\" object, such that the leading zeroes will not be removed in the CSV\n",
    "persona_df[\"POA_CODE_2016\"] = persona_df[\"POA_CODE_2016\"].astype(\"str\")\n",
    "\n",
    "# persona_df"
   ]
  },
  {
   "cell_type": "markdown",
   "metadata": {},
   "source": [
    "## Step 4: Export, Visualise and Communicate"
   ]
  },
  {
   "cell_type": "code",
   "execution_count": null,
   "metadata": {},
   "outputs": [],
   "source": [
    "persona_df.to_csv('persona_tables.csv', index = False)"
   ]
  }
 ],
 "metadata": {
  "kernelspec": {
   "display_name": "Python 3",
   "language": "python",
   "name": "python3"
  },
  "language_info": {
   "codemirror_mode": {
    "name": "ipython",
    "version": 3
   },
   "file_extension": ".py",
   "mimetype": "text/x-python",
   "name": "python",
   "nbconvert_exporter": "python",
   "pygments_lexer": "ipython3",
   "version": "3.8.5"
  }
 },
 "nbformat": 4,
 "nbformat_minor": 4
}
